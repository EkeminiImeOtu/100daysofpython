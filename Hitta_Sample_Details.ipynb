{
  "cells": [
    {
      "cell_type": "markdown",
      "metadata": {
        "id": "view-in-github",
        "colab_type": "text"
      },
      "source": [
        "<a href=\"https://colab.research.google.com/github/EkeminiImeOtu/100daysofpython/blob/main/Hitta_Sample_Details.ipynb\" target=\"_parent\"><img src=\"https://colab.research.google.com/assets/colab-badge.svg\" alt=\"Open In Colab\"/></a>"
      ]
    },
    {
      "cell_type": "code",
      "execution_count": null,
      "id": "07c32318",
      "metadata": {
        "id": "07c32318",
        "outputId": "2f613bd0-6cef-4930-edef-95d42ac80291"
      },
      "outputs": [
        {
          "name": "stderr",
          "output_type": "stream",
          "text": [
            "Fetching data: 100%|███████████████████████████████████████████████████████████████████| 50/50 [00:07<00:00,  6.85it/s]"
          ]
        },
        {
          "name": "stdout",
          "output_type": "stream",
          "text": [
            "Data extraction complete and saved to hitta_sample_details_data.xlsx.\n"
          ]
        },
        {
          "name": "stderr",
          "output_type": "stream",
          "text": [
            "\n"
          ]
        }
      ],
      "source": [
        "import pandas as pd\n",
        "import requests\n",
        "from concurrent.futures import ThreadPoolExecutor, as_completed\n",
        "from tqdm import tqdm\n",
        "\n",
        "def fetch_data_from_api(api_url):\n",
        "    try:\n",
        "        response = requests.get(api_url, timeout=10)  # Adding a timeout for the request\n",
        "        data = response.json()\n",
        "\n",
        "        company_info = data['result']['companies']['company'][0]\n",
        "        phone_number_one = None\n",
        "        phone_number_two = None\n",
        "\n",
        "        if 'phone' in company_info:\n",
        "            phone_info = company_info['phone'][0]  # Assuming we're interested in the first phone entry\n",
        "            phone_number_one = phone_info.get('displayAs')\n",
        "            phone_number_two = phone_info.get('callTo')\n",
        "\n",
        "        return api_url, phone_number_one, phone_number_two\n",
        "    except Exception as e:\n",
        "        print(f\"Error processing {api_url}: {e}\")\n",
        "        return api_url, None, None\n",
        "\n",
        "def process_urls_from_excel(file_path):\n",
        "    df = pd.read_excel(file_path, usecols=[\"urls\"])\n",
        "    api_base_url = \"https://api.hitta.se/search/v7/web/company/\"\n",
        "\n",
        "    # Preparing a list to store the data including original URLs\n",
        "    tasks = [(url, f\"{api_base_url}{url.rsplit('/', 1)[-1]}\") for url in df['urls']]\n",
        "\n",
        "    data = []\n",
        "    with ThreadPoolExecutor(max_workers=10) as executor:\n",
        "        futures = [executor.submit(fetch_data_from_api, task[1]) for task in tasks]\n",
        "\n",
        "        for future, task in tqdm(zip(as_completed(futures), tasks), total=len(tasks), desc=\"Fetching data\"):\n",
        "            _, phone_number_one, phone_number_two = future.result()\n",
        "            original_url, api_url = task\n",
        "            data.append({\n",
        "                \"original_url\": original_url,\n",
        "                \"api_url\": api_url,\n",
        "                \"phone_number_one\": phone_number_one,\n",
        "                \"phone_number_two\": phone_number_two\n",
        "            })\n",
        "\n",
        "    result_df = pd.DataFrame(data)\n",
        "    return result_df\n",
        "\n",
        "# Example usage\n",
        "file_path = \"hitta_list.xlsx\"  # Update this to the path of your Excel file\n",
        "result_df = process_urls_from_excel(file_path)\n",
        "\n",
        "# Optionally, save the DataFrame to a new Excel file\n",
        "result_df.to_excel(\"hitta_sample_details_data.xlsx\", index=False)\n",
        "print(\"Data extraction complete and saved to hitta_sample_details_data.xlsx.\")\n"
      ]
    },
    {
      "cell_type": "code",
      "execution_count": null,
      "id": "b10bfa9a",
      "metadata": {
        "id": "b10bfa9a"
      },
      "outputs": [],
      "source": []
    },
    {
      "cell_type": "code",
      "execution_count": null,
      "id": "e5f350df",
      "metadata": {
        "id": "e5f350df"
      },
      "outputs": [],
      "source": []
    }
  ],
  "metadata": {
    "kernelspec": {
      "display_name": "Python 3 (ipykernel)",
      "language": "python",
      "name": "python3"
    },
    "language_info": {
      "codemirror_mode": {
        "name": "ipython",
        "version": 3
      },
      "file_extension": ".py",
      "mimetype": "text/x-python",
      "name": "python",
      "nbconvert_exporter": "python",
      "pygments_lexer": "ipython3",
      "version": "3.9.7"
    },
    "colab": {
      "provenance": [],
      "include_colab_link": true
    }
  },
  "nbformat": 4,
  "nbformat_minor": 5
}